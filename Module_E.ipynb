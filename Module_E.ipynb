{
  "nbformat": 4,
  "nbformat_minor": 0,
  "metadata": {
    "colab": {
      "provenance": [],
      "authorship_tag": "ABX9TyNMhZ8iAKTFLs9aa/ZgRKSx",
      "include_colab_link": true
    },
    "kernelspec": {
      "name": "python3",
      "display_name": "Python 3"
    },
    "language_info": {
      "name": "python"
    }
  },
  "cells": [
    {
      "cell_type": "markdown",
      "metadata": {
        "id": "view-in-github",
        "colab_type": "text"
      },
      "source": [
        "<a href=\"https://colab.research.google.com/github/Gnome101/MAT_421/blob/main/Module_E.ipynb\" target=\"_parent\"><img src=\"https://colab.research.google.com/assets/colab-badge.svg\" alt=\"Open In Colab\"/></a>"
      ]
    },
    {
      "cell_type": "markdown",
      "source": [
        "# Differentiation & Optimization\n",
        "For many algorithms in DS and machine they optimize an objective function with respect to a set of dersired model parameters."
      ],
      "metadata": {
        "id": "Uh6IejSwzpja"
      }
    },
    {
      "cell_type": "markdown",
      "source": [
        "## 3.2 Continuity and Differentiation\n",
        "The derivative of a function\n",
        ""
      ],
      "metadata": {
        "id": "Kn_1-_em8kLA"
      }
    },
    {
      "cell_type": "code",
      "source": [],
      "metadata": {
        "id": "7luXWBK08j71"
      },
      "execution_count": null,
      "outputs": []
    },
    {
      "cell_type": "code",
      "execution_count": null,
      "metadata": {
        "id": "J0KogFoFzNA1"
      },
      "outputs": [],
      "source": []
    }
  ]
}