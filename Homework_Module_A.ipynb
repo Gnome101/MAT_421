{
  "nbformat": 4,
  "nbformat_minor": 0,
  "metadata": {
    "colab": {
      "provenance": [],
      "authorship_tag": "ABX9TyN9yIYukPLCZAFuGLAt1Nbv",
      "include_colab_link": true
    },
    "kernelspec": {
      "name": "python3",
      "display_name": "Python 3"
    },
    "language_info": {
      "name": "python"
    }
  },
  "cells": [
    {
      "cell_type": "markdown",
      "metadata": {
        "id": "view-in-github",
        "colab_type": "text"
      },
      "source": [
        "<a href=\"https://colab.research.google.com/github/Gnome101/MAT_421/blob/main/Homework_Module_A.ipynb\" target=\"_parent\"><img src=\"https://colab.research.google.com/assets/colab-badge.svg\" alt=\"Open In Colab\"/></a>"
      ]
    },
    {
      "cell_type": "markdown",
      "source": [
        "## 9.1 Base-N & Binary"
      ],
      "metadata": {
        "id": "h0E4eStScSlf"
      }
    },
    {
      "cell_type": "code",
      "execution_count": 6,
      "metadata": {
        "id": "iTcmnvt11ilA",
        "colab": {
          "base_uri": "https://localhost:8080/"
        },
        "outputId": "846e309c-1f0d-4e8c-b053-21c14eae1cf0"
      },
      "outputs": [
        {
          "output_type": "execute_result",
          "data": {
            "text/plain": [
              "True"
            ]
          },
          "metadata": {},
          "execution_count": 6
        }
      ],
      "source": [
        "#Show decimal expansion for 219.31\n",
        "219.31 == 2 * 10**2 + 1 * 10**1 + 9 * 10**0 + 3 * 10**(-1) + 1 * 10**(-2)"
      ]
    },
    {
      "cell_type": "code",
      "source": [
        "#Base 10 conversions to Base 2\n",
        "#Converting 12(base 10) to base(2)\n",
        "12 ==  1 * 2**3 + 1 * 2**2 + 0 * 2**1 + 0 * 2**0\n",
        "#This would be 12(base 10) == 1100"
      ],
      "metadata": {
        "colab": {
          "base_uri": "https://localhost:8080/"
        },
        "id": "b79GtHvFdX33",
        "outputId": "8f845bd1-eabb-4087-a364-0f216d837c47"
      },
      "execution_count": 9,
      "outputs": [
        {
          "output_type": "execute_result",
          "data": {
            "text/plain": [
              "True"
            ]
          },
          "metadata": {},
          "execution_count": 9
        }
      ]
    },
    {
      "cell_type": "code",
      "source": [
        "#Base 2 conversions to Base 10\n",
        "#Converting 1010101(base 2) to base(10)\n",
        "1 * 2**6 + 0 * 2**5 + 1 * 2**4 + 0 * 2**3 + 1 * 2**2 + 0 * 2**1 + 1 * 2**0 == 85\n",
        "#This would be 1010101(base 2) == 85 (base 10)"
      ],
      "metadata": {
        "colab": {
          "base_uri": "https://localhost:8080/"
        },
        "id": "jfJ5BzUQd-nT",
        "outputId": "131d5723-ec7b-41ba-f3fb-8901af9e12fa"
      },
      "execution_count": 11,
      "outputs": [
        {
          "output_type": "execute_result",
          "data": {
            "text/plain": [
              "True"
            ]
          },
          "metadata": {},
          "execution_count": 11
        }
      ]
    },
    {
      "cell_type": "code",
      "source": [
        "#Addition with Binary\n",
        "#1010 + 0101 = 1111\n",
        "a = 1 * (2**3) + 1 * (2**1)\n",
        "print(a == 10)\n",
        "b = 1 * (2**2) + 1 * (2**0)\n",
        "print(b==5)\n",
        "c = 1 * (2**3) + 1 * (2**1) + 1 * (2**2) + 1 * (2**0)\n",
        "print(a + b == c)"
      ],
      "metadata": {
        "colab": {
          "base_uri": "https://localhost:8080/"
        },
        "id": "QB220oGaehKx",
        "outputId": "eb85e960-e6dd-4bd2-c017-77ec82a6132e"
      },
      "execution_count": 16,
      "outputs": [
        {
          "output_type": "stream",
          "name": "stdout",
          "text": [
            "True\n",
            "True\n",
            "True\n"
          ]
        }
      ]
    },
    {
      "cell_type": "code",
      "source": [
        "#Essentially base-2 is a number way to represent numbers.\n",
        "#Its important within computing because operations with bits are much faster than within base10 for computers.\n"
      ],
      "metadata": {
        "id": "oA9ZsyimfGne"
      },
      "execution_count": null,
      "outputs": []
    },
    {
      "cell_type": "markdown",
      "source": [
        "## 9.2 Floating Point\n"
      ],
      "metadata": {
        "id": "pj0FauKgfw-u"
      }
    },
    {
      "cell_type": "code",
      "source": [
        "#Python uses 64 bits to represent floating point numbers\n",
        "#1 bit is given for the sign (+/-)\n",
        "#11 bits are given for the exponent or characteristic\n",
        "#53 bits are given for the fraction\n",
        "#A bias of 1023 is used to allow for the exponent to represent negative exponents\n",
        "\n"
      ],
      "metadata": {
        "id": "m2sGQSxVfzKr"
      },
      "execution_count": null,
      "outputs": []
    },
    {
      "cell_type": "markdown",
      "source": [
        "The formula for floating point numbers is shown below\n",
        "n = (-1)^s * 2^(e-1023) * (1+f)\n",
        "\n",
        "\n",
        "*   s is the sign(positive/negative)\n",
        "*   e is the exponent or characteristic\n",
        "*   f is the fraction\n",
        "\n"
      ],
      "metadata": {
        "id": "SzZS4ZPX3_mh"
      }
    },
    {
      "cell_type": "code",
      "source": [
        "#float information\n",
        "import sys\n",
        "sys.float_info\n",
        "import numpy as np\n"
      ],
      "metadata": {
        "id": "3whYbFW9g3Q1"
      },
      "execution_count": 54,
      "outputs": []
    },
    {
      "cell_type": "code",
      "source": [
        "#The largest number is where where all bits of e and f are flipped to 1\n",
        "s = 0\n",
        "e = 2046\n",
        "f = sum(0.5**np.arange(1,53)) #This is summing up all of the reciprocals from 2^-0 to 2^-52\n",
        "sys.float_info.max == (-1)**s*2**(e-1023)*(1+ f)\n"
      ],
      "metadata": {
        "colab": {
          "base_uri": "https://localhost:8080/"
        },
        "id": "028HuG4H4tLZ",
        "outputId": "14ff59bd-a59a-4bcb-99b6-092288ec1754"
      },
      "execution_count": 71,
      "outputs": [
        {
          "output_type": "execute_result",
          "data": {
            "text/plain": [
              "True"
            ]
          },
          "metadata": {},
          "execution_count": 71
        }
      ]
    },
    {
      "cell_type": "code",
      "source": [
        "#Anything greater than this number is infinity and overflow will occur\n",
        "e = 2046\n",
        "f = sum(0.5**np.arange(1,54)) #This is summing up all of the reciprocals\n",
        "(-1)**s*2**(e-1023)*(1+ f)"
      ],
      "metadata": {
        "colab": {
          "base_uri": "https://localhost:8080/"
        },
        "id": "EUi6JoPl545o",
        "outputId": "ab3cf385-535a-462d-f669-0968fccdfea6"
      },
      "execution_count": 75,
      "outputs": [
        {
          "output_type": "stream",
          "name": "stderr",
          "text": [
            "<ipython-input-75-ec28f6b34985>:4: RuntimeWarning: overflow encountered in multiply\n",
            "  (-1)**s*2**(e-1023)*(1+ f)\n"
          ]
        },
        {
          "output_type": "execute_result",
          "data": {
            "text/plain": [
              "inf"
            ]
          },
          "metadata": {},
          "execution_count": 75
        }
      ]
    },
    {
      "cell_type": "code",
      "source": [
        "#The smallest number is where e is 1, s = 0, and f = 0\n",
        "s = 0\n",
        "e =1\n",
        "f = 0\n",
        "sys.float_info.min == (-1)**s*2**(e-1023)*(1+ f)"
      ],
      "metadata": {
        "colab": {
          "base_uri": "https://localhost:8080/"
        },
        "id": "f5htf9Ac6IPc",
        "outputId": "58b7959f-cd0e-42f6-f2bf-738b08f0b4b3"
      },
      "execution_count": 73,
      "outputs": [
        {
          "output_type": "execute_result",
          "data": {
            "text/plain": [
              "True"
            ]
          },
          "metadata": {},
          "execution_count": 73
        }
      ]
    },
    {
      "cell_type": "code",
      "source": [
        "#The spacing of a floating point numbers is the gap between numbers.\n",
        "#Floating point numbers will also round to the nearest floating point number\n",
        "#Therefore, adding a number the any number that is less than half of its spacing\n",
        "#Will result in the same number\n",
        "a = np.spacing(1e9)\n",
        "1e9 == 0.49 * a + 1e9\n"
      ],
      "metadata": {
        "colab": {
          "base_uri": "https://localhost:8080/"
        },
        "id": "iTf1n5jfxNWT",
        "outputId": "9f872485-5724-4a27-fbb0-0cf9dadedb43"
      },
      "execution_count": 23,
      "outputs": [
        {
          "output_type": "execute_result",
          "data": {
            "text/plain": [
              "True"
            ]
          },
          "metadata": {},
          "execution_count": 23
        }
      ]
    },
    {
      "cell_type": "code",
      "source": [
        "#This will come out as false because its greater than 0.5 of the gap\n",
        "1e9 == 0.51 * a + 1e9"
      ],
      "metadata": {
        "colab": {
          "base_uri": "https://localhost:8080/"
        },
        "id": "tqVmxVT5xtbW",
        "outputId": "9a74d9e0-2626-49e0-f1fc-7e58d509b7c1"
      },
      "execution_count": 22,
      "outputs": [
        {
          "output_type": "execute_result",
          "data": {
            "text/plain": [
              "False"
            ]
          },
          "metadata": {},
          "execution_count": 22
        }
      ]
    },
    {
      "cell_type": "code",
      "source": [
        "#There are two special cases: e = 0 and when e = 2047\n",
        "#When e = 0, the 1 in the fraction takes the value 0 instead\n",
        "#This is a subnormal number\n",
        "s = 0\n",
        "e = 1\n",
        "f = 2**-52\n",
        "(-1)**s*2**(e-1023)*(0+ f)\n",
        "#The smallest subnormal number possible is 5e-324"
      ],
      "metadata": {
        "colab": {
          "base_uri": "https://localhost:8080/"
        },
        "id": "vpXkcb6Mg329",
        "outputId": "1b752c80-2934-4c85-f51d-4c15914977dc"
      },
      "execution_count": 46,
      "outputs": [
        {
          "output_type": "execute_result",
          "data": {
            "text/plain": [
              "5e-324"
            ]
          },
          "metadata": {},
          "execution_count": 46
        }
      ]
    },
    {
      "cell_type": "code",
      "source": [
        "#If you use a lower fraction, it will evaluate to 0\n",
        "s = 0\n",
        "e = 1\n",
        "f = 2**-53\n",
        "(-1)**s*2**(e-1023)*(0+ f)"
      ],
      "metadata": {
        "colab": {
          "base_uri": "https://localhost:8080/"
        },
        "id": "S0MEsA8bzfze",
        "outputId": "f84212a0-9dea-4758-e1eb-ad207ea35eaf"
      },
      "execution_count": 83,
      "outputs": [
        {
          "output_type": "execute_result",
          "data": {
            "text/plain": [
              "0.0"
            ]
          },
          "metadata": {},
          "execution_count": 83
        }
      ]
    },
    {
      "cell_type": "code",
      "source": [
        "#The main benefit of using 64 bits is that it gives a more adaptable amount of\n",
        "#percision depending on the range of numbers\n",
        "#So for larger numbers the gap is greater, while for smaller number's the gap\n",
        "#is smaller\n",
        "np.spacing(1e9) < np.spacing(1e10)"
      ],
      "metadata": {
        "colab": {
          "base_uri": "https://localhost:8080/"
        },
        "id": "57Sj1jeA7IJf",
        "outputId": "8b0d8209-579c-4eff-bda5-4fb30f67b650"
      },
      "execution_count": 88,
      "outputs": [
        {
          "output_type": "execute_result",
          "data": {
            "text/plain": [
              "True"
            ]
          },
          "metadata": {},
          "execution_count": 88
        }
      ]
    },
    {
      "cell_type": "markdown",
      "source": [
        "## 9.3 Round-Off Errors"
      ],
      "metadata": {
        "id": "VpzsuuYC7EjQ"
      }
    },
    {
      "cell_type": "markdown",
      "source": [
        "*  A round-off error is the difference between the floating point aproximation of a number and its true value.\n",
        " * A representation error is a common-form of a round off error where infinite numbers canno't be fully represented using a floating point digit.\n",
        "\n",
        "*   A truncation error is made when an infinte sum is approximated by a finite sum.\n"
      ],
      "metadata": {
        "id": "PEmjaOV57lud"
      }
    },
    {
      "cell_type": "code",
      "source": [
        "#Rounding error shown here\n",
        "#4.9-4.845 is 0.055 but the representation of the number with floating point is\n",
        "#0.055000000000000604\n",
        "4.9 - 4.845 == 0.055"
      ],
      "metadata": {
        "colab": {
          "base_uri": "https://localhost:8080/"
        },
        "id": "BcpIjMY-N6N_",
        "outputId": "31b4c077-8fd2-4448-9d5c-a6f8742fe94a"
      },
      "execution_count": 114,
      "outputs": [
        {
          "output_type": "execute_result",
          "data": {
            "text/plain": [
              "False"
            ]
          },
          "metadata": {},
          "execution_count": 114
        }
      ]
    },
    {
      "cell_type": "code",
      "source": [
        "#Another important consideration with rounding errors is that they can accumulate\n",
        "#This is shown within this function below(functionw was given in the textbook)\n",
        "#The number should still be 1, but the errors accumulated over time.\n",
        "def add_and_subtract(count):\n",
        "    result = 1\n",
        "\n",
        "    for i in range(count):\n",
        "        result += 1/5\n",
        "\n",
        "    for i in range(count):\n",
        "        result -= 1/5\n",
        "    return result\n",
        "\n",
        "add_and_subtract(1000000)\n"
      ],
      "metadata": {
        "colab": {
          "base_uri": "https://localhost:8080/"
        },
        "id": "nePhy5a6OHxe",
        "outputId": "dd60542d-b8c4-4b0e-d43f-0c198fa562a3"
      },
      "execution_count": 113,
      "outputs": [
        {
          "output_type": "execute_result",
          "data": {
            "text/plain": [
              "1.0000000000069582"
            ]
          },
          "metadata": {},
          "execution_count": 113
        }
      ]
    },
    {
      "cell_type": "code",
      "source": [
        "#However, if we use the spacing of the result at that point, then we can ensure that\n",
        "#There are no round-off errors so the end result is the same as the start\n",
        "def add_and_subtract_spacing(count):\n",
        "    result = 1\n",
        "\n",
        "    for i in range(count):\n",
        "        result += np.spacing(result)\n",
        "\n",
        "    for i in range(count):\n",
        "        result -= np.spacing(result)\n",
        "    return result\n",
        "\n",
        "add_and_subtract_spacing(1000000)"
      ],
      "metadata": {
        "colab": {
          "base_uri": "https://localhost:8080/"
        },
        "id": "k_IHiF9ZPlvD",
        "outputId": "44d5d974-b8f0-4430-f75d-f67167dd0e3f"
      },
      "execution_count": 126,
      "outputs": [
        {
          "output_type": "execute_result",
          "data": {
            "text/plain": [
              "1.0"
            ]
          },
          "metadata": {},
          "execution_count": 126
        }
      ]
    },
    {
      "cell_type": "code",
      "source": [
        "#The round() function can be used to avoid round off errors by rounding the\n",
        "#floating point number to a lower decimal place\n",
        "round(4.9 - 4.845, 7) == round(0.055,7)"
      ],
      "metadata": {
        "colab": {
          "base_uri": "https://localhost:8080/"
        },
        "id": "V2gLSX6uQdkR",
        "outputId": "8e493f6d-6875-430d-eda0-6dd1b9d1d3e3"
      },
      "execution_count": 123,
      "outputs": [
        {
          "output_type": "execute_result",
          "data": {
            "text/plain": [
              "True"
            ]
          },
          "metadata": {},
          "execution_count": 123
        }
      ]
    }
  ]
}