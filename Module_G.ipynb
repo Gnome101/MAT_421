{
  "nbformat": 4,
  "nbformat_minor": 0,
  "metadata": {
    "colab": {
      "provenance": [],
      "authorship_tag": "ABX9TyPmFaP3/VEW6o386FxhHZGp",
      "include_colab_link": true
    },
    "kernelspec": {
      "name": "python3",
      "display_name": "Python 3"
    },
    "language_info": {
      "name": "python"
    }
  },
  "cells": [
    {
      "cell_type": "markdown",
      "metadata": {
        "id": "view-in-github",
        "colab_type": "text"
      },
      "source": [
        "<a href=\"https://colab.research.google.com/github/Gnome101/MAT_421/blob/main/Module_G.ipynb\" target=\"_parent\"><img src=\"https://colab.research.google.com/assets/colab-badge.svg\" alt=\"Open In Colab\"/></a>"
      ]
    },
    {
      "cell_type": "markdown",
      "source": [
        "# Numerical Integration"
      ],
      "metadata": {
        "id": "O28l6GgnINPk"
      }
    },
    {
      "cell_type": "markdown",
      "source": [
        "The integral of a function is described as the \"area under the curve\". It ahs many applications for modeling, predicting, and forecasting. Finding an exact solution for an integral is often difficult or impossobile, hence, the reason for numerical integration."
      ],
      "metadata": {
        "id": "yvVyaBoSIniD"
      }
    },
    {
      "cell_type": "markdown",
      "source": [
        "## 21.1 Numerical Integration Problem Statement"
      ],
      "metadata": {
        "id": "ogb7DO6qIWBe"
      }
    },
    {
      "cell_type": "markdown",
      "source": [
        "The goal is to calculate the integral of function $f(x)$ over the total interval $[a,b]$. This is done by turning the interval into a grid of points. Therefore, the point of the integration is that it uses all of these points in the interval to estimate the integral.\n",
        "We also must assume that our function can be used to estimate f(x) at each point in our interval.\n"
      ],
      "metadata": {
        "id": "BSuw3TWBI64q"
      }
    },
    {
      "cell_type": "code",
      "source": [
        "f = lambda x: x**2\n",
        "b = 3\n",
        "a = 2\n",
        "\n",
        "n = 9\n",
        "h = (b-a) / n\n",
        "print(\"Spacing with 9 points:\",h)\n",
        "\n",
        "\n",
        "n = 20\n",
        "h = (b-a) / n\n",
        "print(\"Spacing with 20 points:\",h)\n",
        "#As you can see the spacing has an inverse relationship with the number of points."
      ],
      "metadata": {
        "colab": {
          "base_uri": "https://localhost:8080/"
        },
        "id": "NAOUn2xtJUau",
        "outputId": "d5abe84d-94df-4311-b742-7202d162c801"
      },
      "execution_count": 9,
      "outputs": [
        {
          "output_type": "stream",
          "name": "stdout",
          "text": [
            "Spacing with 9 points: 0.1111111111111111\n",
            "Spacing with 20 points: 0.05\n"
          ]
        }
      ]
    },
    {
      "cell_type": "markdown",
      "source": [
        "## 21.2 Riemann Integral"
      ],
      "metadata": {
        "id": "Ro4jj66UIWDe"
      }
    },
    {
      "cell_type": "markdown",
      "source": [
        "The simplest method for approximating integrals is by summing rectangles that are defined for each subinterval.\n",
        "A subinterval is essentially the interval between each point.\n",
        "$\\int_{a}^{b}f(x) dx \\approx \\sum_{i=0}^{n-1}hf(x_i)  $\n"
      ],
      "metadata": {
        "id": "H5MD0ODtKMdS"
      }
    },
    {
      "cell_type": "markdown",
      "source": [
        "The midpoint rule uses the rectangle height at the midpoint of each subinterval. It can help to reduce teh errro."
      ],
      "metadata": {
        "id": "Fhz0nj7gMOSR"
      }
    },
    {
      "cell_type": "code",
      "source": [
        "import numpy as np\n",
        "\n",
        "a = 0\n",
        "b = np.pi\n",
        "n = 20\n",
        "h = (b - a) / (n - 1)\n",
        "x = np.linspace(a, b, n)\n",
        "f = np.sin(x)\n",
        "\n",
        "I_riemannL = h * sum(f[:n-1])\n",
        "err_riemannL = 2 - I_riemannL\n",
        "\n",
        "I_riemannR = h * sum(f[1::])\n",
        "err_riemannR = 2 - I_riemannR\n",
        "\n",
        "I_mid = h * sum(np.sin((x[:n-1] \\\n",
        "        + x[1:])/2))\n",
        "err_mid = 2 - I_mid\n",
        "\n",
        "print(\"Left Riemann\",I_riemannL)\n",
        "print(\"Left Riemann\",err_riemannL)\n",
        "print(\"\")\n",
        "print(\"Right Riemann\",I_riemannR)\n",
        "print(\"Right Riemann\",err_riemannR)\n",
        "print(\"\")\n",
        "print(\"Midpoint rule\",I_mid)\n",
        "print(\"Midpoint rule\",err_mid)\n",
        "#Based on the values below, it is evident that the midpoint sum has the best accuracy out of everything\n"
      ],
      "metadata": {
        "colab": {
          "base_uri": "https://localhost:8080/"
        },
        "id": "XXskr2RkMQp2",
        "outputId": "08624d3b-369f-4cf4-cd78-461b55614c94"
      },
      "execution_count": 17,
      "outputs": [
        {
          "output_type": "stream",
          "name": "stdout",
          "text": [
            "Left Riemann 1.9954413183201947\n",
            "Left Riemann 0.004558681679805332\n",
            "\n",
            "Right Riemann 1.9954413183201947\n",
            "Right Riemann 0.004558681679805332\n",
            "\n",
            "Midpoint rule 2.00228012007291\n",
            "Midpoint rule -0.002280120072910119\n"
          ]
        }
      ]
    },
    {
      "cell_type": "markdown",
      "source": [
        "## 21.3 Trapezoid Rule"
      ],
      "metadata": {
        "id": "GBDah52FIihu"
      }
    },
    {
      "cell_type": "markdown",
      "source": [
        "The trapezoid rule fits a trapezoid into each subinterval to approximate the total integral.\n",
        "$\\int_{a}^{b}f(x) dx \\approx \\frac{h}{2}(f(x_0) + 2(\\sum_{i=0}^{n-1}f(x_i) ) + f(x_n) )$\n"
      ],
      "metadata": {
        "id": "BSO7OqJqMuLq"
      }
    },
    {
      "cell_type": "code",
      "source": [
        "import numpy as np\n",
        "\n",
        "a = 0\n",
        "b = np.pi\n",
        "n1 = 20\n",
        "n2 = 40\n",
        "\n",
        "h = (b - a) / (n1 - 1)\n",
        "x = np.linspace(a, b, n1)\n",
        "f = np.sin(x)\n",
        "\n",
        "h2 = (b - a) / (n2 - 1)\n",
        "x2 = np.linspace(a, b, n2)\n",
        "f2 = np.sin(x2)\n",
        "#The trapezoidal sum is calculated as if it was a trapezoid\n",
        "I_trap1 = (h/2)*(f[0] + \\\n",
        "          2 * sum(f[1:n1-1]) + f[n1-1])\n",
        "err_trap1 = 2 - I_trap1\n",
        "\n",
        "I_trap2 = (h2/2)*(f2[0] + \\\n",
        "          2 * sum(f2[1:n2-1]) + f2[n2-1])\n",
        "err_trap2 = 2 - I_trap2\n",
        "\n",
        "print(I_trap1)\n",
        "print(err_trap1)\n",
        "\n",
        "print(I_trap2)\n",
        "print(err_trap2)\n",
        "\n",
        "print(\"The error for 20 points is\",err_trap1)\n",
        "print(\"which is greater than the error for 40 points:\", err_trap2)\n",
        "#This shows how increasing the amount of points, improves accuracy"
      ],
      "metadata": {
        "colab": {
          "base_uri": "https://localhost:8080/"
        },
        "id": "1x7v1d3rQt1C",
        "outputId": "406018bc-32a2-4abe-c987-8668a99a11a9"
      },
      "execution_count": 14,
      "outputs": [
        {
          "output_type": "stream",
          "name": "stdout",
          "text": [
            "1.9954413183201947\n",
            "0.004558681679805332\n",
            "1.9989184010578638\n",
            "0.0010815989421362193\n",
            "The error for 20 points is 0.004558681679805332\n",
            "which is greater than the error for 40 points: 0.0010815989421362193\n"
          ]
        }
      ]
    }
  ]
}