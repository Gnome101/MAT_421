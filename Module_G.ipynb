{
  "nbformat": 4,
  "nbformat_minor": 0,
  "metadata": {
    "colab": {
      "provenance": [],
      "authorship_tag": "ABX9TyMHj9Stgl5gveAlNvgAVm6Q",
      "include_colab_link": true
    },
    "kernelspec": {
      "name": "python3",
      "display_name": "Python 3"
    },
    "language_info": {
      "name": "python"
    }
  },
  "cells": [
    {
      "cell_type": "markdown",
      "metadata": {
        "id": "view-in-github",
        "colab_type": "text"
      },
      "source": [
        "<a href=\"https://colab.research.google.com/github/Gnome101/MAT_421/blob/main/Module_G.ipynb\" target=\"_parent\"><img src=\"https://colab.research.google.com/assets/colab-badge.svg\" alt=\"Open In Colab\"/></a>"
      ]
    },
    {
      "cell_type": "markdown",
      "source": [
        "# Simpson's Rule"
      ],
      "metadata": {
        "id": "z9rtrFqPz3u8"
      }
    },
    {
      "cell_type": "markdown",
      "source": [
        "Given two consecutive subintervals $[x_{i-1}, x_i]$ and $[x_i, x_{i+1}]$. Simpson's rule approximates the area under f(x) over those two sub intervals by fitting a quadratic polynomial points.Then they integrate that polynomial exactly. An important aspect to Simpson's rule is that you must have an even number of intervals, so an odd number of gridpoints."
      ],
      "metadata": {
        "id": "ZCmoMh16z-7t"
      }
    },
    {
      "cell_type": "code",
      "execution_count": 1,
      "metadata": {
        "colab": {
          "base_uri": "https://localhost:8080/"
        },
        "id": "5GeCo_Gkzpjl",
        "outputId": "4d49a955-298a-4b69-c064-038ed48a1435"
      },
      "outputs": [
        {
          "output_type": "stream",
          "name": "stdout",
          "text": [
            "2.0001095173150043\n",
            "-0.00010951731500430384\n"
          ]
        }
      ],
      "source": [
        "#Below we calculate an example using Simpsons rule\n",
        "import numpy as np\n",
        "\n",
        "a = 0\n",
        "b = np.pi\n",
        "n = 11\n",
        "h = (b - a) / (n - 1)\n",
        "x = np.linspace(a, b, n)\n",
        "f = np.sin(x)\n",
        "\n",
        "I_simp = (h/3) * (f[0] + 2*sum(f[:n-2:2]) \\\n",
        "            + 4*sum(f[1:n-1:2]) + f[n-1])\n",
        "err_simp = 2 - I_simp\n",
        "\n",
        "print(I_simp)\n",
        "print(err_simp)"
      ]
    },
    {
      "cell_type": "markdown",
      "source": [
        "## Computing Integrals in Python"
      ],
      "metadata": {
        "id": "voOCak920mAR"
      }
    },
    {
      "cell_type": "code",
      "source": [
        "import numpy as np\n",
        "from scipy.integrate import trapz, quad\n",
        "import time  # Import the time module\n",
        "\n",
        "a = 0\n",
        "b = np.pi\n",
        "n = 20\n",
        "h = (b - a) / (n - 1)\n",
        "x = np.linspace(a, b, n)\n",
        "f = np.sin(x)\n",
        "\n",
        "# Timing trapz\n",
        "start_time_trapz = time.time()\n",
        "I_trapz = trapz(f, x)\n",
        "end_time_trapz = time.time()\n",
        "time_trapz = end_time_trapz - start_time_trapz\n",
        "\n",
        "# Timing quad\n",
        "start_time_quad = time.time()\n",
        "I_quad, I_quad_err = quad(np.sin, 0, np.pi)\n",
        "end_time_quad = time.time()\n",
        "time_quad = end_time_quad - start_time_quad\n",
        "\n",
        "# Print the results\n",
        "print(f\"I_trapz: {I_trapz}\")\n",
        "print(f\"Time taken for trapz: {time_trapz} seconds\")\n",
        "print(f\"I_quad: {I_quad}\")\n",
        "print(f\"Time taken for quad: {time_quad} seconds\")\n",
        "# Since the acutal integral is 2 then its clear that quad\n",
        "#was closer to approximating the answer correctly\n",
        "# As you can see from the timing below\n",
        "#its also true that quad is the faster method\n"
      ],
      "metadata": {
        "colab": {
          "base_uri": "https://localhost:8080/"
        },
        "id": "3E0jQBB50oep",
        "outputId": "39f05a91-bdf1-4f5c-e871-6058d453cc5d"
      },
      "execution_count": 16,
      "outputs": [
        {
          "output_type": "stream",
          "name": "stdout",
          "text": [
            "I_trapz: 1.9954413183201947\n",
            "Time taken for trapz: 0.00026488304138183594 seconds\n",
            "I_quad: 2.0\n",
            "Time taken for quad: 0.0001437664031982422 seconds\n"
          ]
        }
      ]
    }
  ]
}